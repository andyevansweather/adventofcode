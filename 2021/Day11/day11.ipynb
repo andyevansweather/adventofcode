{
 "cells": [
  {
   "cell_type": "code",
   "execution_count": 41,
   "metadata": {},
   "outputs": [],
   "source": [
    "import json\n",
    "import warnings"
   ]
  },
  {
   "cell_type": "code",
   "execution_count": 49,
   "metadata": {},
   "outputs": [],
   "source": [
    "# with open(\"test.json\", \"r\") as f:\n",
    "#     data = json.load(f)\n",
    "data  = [\n",
    "    [1,1,1,1,1],\n",
    "    [1,9,9,9,1],\n",
    "    [1,9,1,9,1],\n",
    "    [1,9,9,9,1],\n",
    "    [1,1,1,1,1]\n",
    "]"
   ]
  },
  {
   "cell_type": "code",
   "execution_count": 51,
   "metadata": {},
   "outputs": [
    {
     "name": "stdout",
     "output_type": "stream",
     "text": [
      "1 1\n",
      "[[2 2 2 2 2]\n",
      " [2 9 9 9 1]\n",
      " [1 9 1 9 1]]\n",
      "1 2\n",
      "[[ 3 10 10 10  2]\n",
      " [ 2 10  2 10  2]]\n",
      "1 3\n",
      "[[ 3 11  3 11  3]]\n",
      "2 1\n",
      "[[ 4 11 10 10  2]\n",
      " [ 2 12  4 12  4]\n",
      " [ 1  9  9  9  1]]\n",
      "2 3\n",
      "[[ 2 10 10 10  2]]\n",
      "3 1\n",
      "[[ 3 10  2 10  2]\n",
      " [ 2 11 11 11  3]\n",
      " [ 1  1  1  1  1]]\n",
      "3 2\n",
      "[[ 3 10 12 12  4]\n",
      " [ 2  2  2  2  2]]\n",
      "3 3\n",
      "[[3 3 3 3 3]]\n"
     ]
    }
   ],
   "source": [
    "result = np.array(data.copy())\n",
    "for x, row in enumerate(data):\n",
    "    for y, cell in enumerate(row):\n",
    "        if cell > 8:\n",
    "            print(x, y)\n",
    "            print(result[x-1:x+2][y-1:y+2])\n",
    "            result[x-1:x+2][y-1:y+2] += 1\n",
    "        result[x][y]=cell + 1\n",
    "   \n",
    "\n"
   ]
  },
  {
   "cell_type": "code",
   "execution_count": 45,
   "metadata": {},
   "outputs": [
    {
     "data": {
      "text/plain": [
       "array([[ 3,  3,  3,  3,  3],\n",
       "       [ 5, 12, 11, 11,  3],\n",
       "       [ 4, 11,  3, 11,  3],\n",
       "       [ 4, 11, 10, 10,  2],\n",
       "       [ 2,  2,  2,  2,  2]])"
      ]
     },
     "execution_count": 45,
     "metadata": {},
     "output_type": "execute_result"
    }
   ],
   "source": [
    "result"
   ]
  },
  {
   "cell_type": "code",
   "execution_count": 39,
   "metadata": {},
   "outputs": [
    {
     "data": {
      "text/plain": [
       "array([2, 3, 4, 5])"
      ]
     },
     "execution_count": 39,
     "metadata": {},
     "output_type": "execute_result"
    }
   ],
   "source": [
    "test = np.array([1, 2, 3, 4])\n",
    "test + 1"
   ]
  },
  {
   "cell_type": "code",
   "execution_count": 12,
   "metadata": {},
   "outputs": [
    {
     "name": "stdout",
     "output_type": "stream",
     "text": [
      "[[ 2  2  2  2  2]\n",
      " [ 2 10 10 10  2]\n",
      " [ 2 10  2 10  2]\n",
      " [ 2 10 10 10  2]\n",
      " [ 2  2  2  2  2]]\n"
     ]
    }
   ],
   "source": [
    "import numpy as np\n",
    "\n",
    "data_np = np.array(data)\n",
    "result_np = data_np + 1\n",
    "print(result_np)"
   ]
  },
  {
   "cell_type": "code",
   "execution_count": 44,
   "metadata": {},
   "outputs": [
    {
     "data": {
      "text/plain": [
       "198"
      ]
     },
     "execution_count": 44,
     "metadata": {},
     "output_type": "execute_result"
    }
   ],
   "source": [
    "vert = 0\n",
    "horiz = 0\n",
    "depth = 0\n",
    "result = {}\n",
    "for datum in data:\n",
    "    for i in range(len(data[0])):\n",
    "        if not result.get(i):\n",
    "            result[i] = \"\"\n",
    "        result[i] += datum[i]\n",
    "\n",
    "t = \"\"\n",
    "for idx, i in result.items():\n",
    "    t += str(bit_counter(i))\n",
    "t\n",
    "# print(t)\n",
    "gamma_dec = int(t, 2)\n",
    "tt = ''.join('1' if b == '0' else '0' for b in t)\n",
    "epsilon_dec = int(tt, 2)\n",
    "# print(gamma_dec, epsilon_dec)\n",
    "power_rate = gamma_dec * epsilon_dec\n",
    "power_rate"
   ]
  },
  {
   "cell_type": "code",
   "execution_count": 51,
   "metadata": {},
   "outputs": [
    {
     "name": "stdout",
     "output_type": "stream",
     "text": [
      "['00100', '11110', '10110', '10111', '10101', '01111', '00111', '11100', '10000', '11001', '00010', '01010']\n",
      "['01010']\n"
     ]
    },
    {
     "data": {
      "text/plain": [
       "10"
      ]
     },
     "execution_count": 51,
     "metadata": {},
     "output_type": "execute_result"
    }
   ],
   "source": [
    "\n",
    "# CO2 scrubber\n",
    "print(data)\n",
    "holder = data.copy()\n",
    "rt = []\n",
    "for i in range(len(data[0])):\n",
    "    for datum in holder:\n",
    "        # print(datum[i])\n",
    "        if int(datum[i]) % 2 == i % 2:\n",
    "            rt.append(datum)\n",
    "    holder = rt.copy()\n",
    "    rt = []\n",
    "print(holder)\n",
    "int(holder[0], 2)"
   ]
  },
  {
   "cell_type": "code",
   "execution_count": null,
   "metadata": {},
   "outputs": [],
   "source": []
  }
 ],
 "metadata": {
  "interpreter": {
   "hash": "b1c42115d4fcd207833c71e858bd2be4cf60996804d3c849c92f3a9ae11c02cc"
  },
  "kernelspec": {
   "display_name": "Python 3.9.2 64-bit ('demo': conda)",
   "language": "python",
   "name": "python3"
  },
  "language_info": {
   "codemirror_mode": {
    "name": "ipython",
    "version": 3
   },
   "file_extension": ".py",
   "mimetype": "text/x-python",
   "name": "python",
   "nbconvert_exporter": "python",
   "pygments_lexer": "ipython3",
   "version": "3.9.2"
  },
  "orig_nbformat": 4
 },
 "nbformat": 4,
 "nbformat_minor": 2
}
