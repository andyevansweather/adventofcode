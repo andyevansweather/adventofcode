{
 "cells": [
  {
   "cell_type": "code",
   "execution_count": 41,
   "metadata": {},
   "outputs": [],
   "source": [
    "import json\n",
    "import warnings"
   ]
  },
  {
   "cell_type": "code",
   "execution_count": 42,
   "metadata": {},
   "outputs": [],
   "source": [
    "# with open(\"test.json\", \"r\") as f:\n",
    "#     data = json.load(f)\n",
    "data  = [\n",
    "    \"00100\",\n",
    "    \"11110\",\n",
    "    \"10110\",\n",
    "    \"10111\",\n",
    "    \"10101\",\n",
    "    \"01111\",\n",
    "    \"00111\",\n",
    "    \"11100\",\n",
    "    \"10000\",\n",
    "    \"11001\",\n",
    "    \"00010\",\n",
    "    \"01010\"\n",
    "]"
   ]
  },
  {
   "cell_type": "code",
   "execution_count": 43,
   "metadata": {},
   "outputs": [],
   "source": [
    "def bit_counter(row):   \n",
    "    gamma_one = row.count(\"1\")\n",
    "    gamma_zero = row.count(\"0\")\n",
    "    if gamma_one == gamma_zero:\n",
    "        warnings.warn(\"counter has equal numbers inside of it!\")\n",
    "    return int(gamma_one > gamma_zero)"
   ]
  },
  {
   "cell_type": "code",
   "execution_count": 44,
   "metadata": {},
   "outputs": [
    {
     "data": {
      "text/plain": [
       "198"
      ]
     },
     "execution_count": 44,
     "metadata": {},
     "output_type": "execute_result"
    }
   ],
   "source": [
    "vert = 0\n",
    "horiz = 0\n",
    "depth = 0\n",
    "result = {}\n",
    "for datum in data:\n",
    "    for i in range(len(data[0])):\n",
    "        if not result.get(i):\n",
    "            result[i] = \"\"\n",
    "        result[i] += datum[i]\n",
    "\n",
    "t = \"\"\n",
    "for idx, i in result.items():\n",
    "    t += str(bit_counter(i))\n",
    "t\n",
    "# print(t)\n",
    "gamma_dec = int(t, 2)\n",
    "tt = ''.join('1' if b == '0' else '0' for b in t)\n",
    "epsilon_dec = int(tt, 2)\n",
    "# print(gamma_dec, epsilon_dec)\n",
    "power_rate = gamma_dec * epsilon_dec\n",
    "power_rate"
   ]
  },
  {
   "cell_type": "code",
   "execution_count": 51,
   "metadata": {},
   "outputs": [
    {
     "name": "stdout",
     "output_type": "stream",
     "text": [
      "['00100', '11110', '10110', '10111', '10101', '01111', '00111', '11100', '10000', '11001', '00010', '01010']\n",
      "['01010']\n"
     ]
    },
    {
     "data": {
      "text/plain": [
       "10"
      ]
     },
     "execution_count": 51,
     "metadata": {},
     "output_type": "execute_result"
    }
   ],
   "source": [
    "\n",
    "# CO2 scrubber\n",
    "print(data)\n",
    "holder = data.copy()\n",
    "rt = []\n",
    "for i in range(len(data[0])):\n",
    "    for datum in holder:\n",
    "        # print(datum[i])\n",
    "        if int(datum[i]) % 2 == i % 2:\n",
    "            rt.append(datum)\n",
    "    holder = rt.copy()\n",
    "    rt = []\n",
    "print(holder)\n",
    "int(holder[0], 2)"
   ]
  },
  {
   "cell_type": "code",
   "execution_count": null,
   "metadata": {},
   "outputs": [],
   "source": []
  }
 ],
 "metadata": {
  "interpreter": {
   "hash": "b1c42115d4fcd207833c71e858bd2be4cf60996804d3c849c92f3a9ae11c02cc"
  },
  "kernelspec": {
   "display_name": "Python 3.9.2 64-bit ('demo': conda)",
   "language": "python",
   "name": "python3"
  },
  "language_info": {
   "codemirror_mode": {
    "name": "ipython",
    "version": 3
   },
   "file_extension": ".py",
   "mimetype": "text/x-python",
   "name": "python",
   "nbconvert_exporter": "python",
   "pygments_lexer": "ipython3",
   "version": "3.9.2"
  },
  "orig_nbformat": 4
 },
 "nbformat": 4,
 "nbformat_minor": 2
}
